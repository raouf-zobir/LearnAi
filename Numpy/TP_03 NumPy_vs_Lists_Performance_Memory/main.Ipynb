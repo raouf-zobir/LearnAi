{
 "cells": [
  {
   "cell_type": "code",
   "execution_count": null,
   "metadata": {},
   "outputs": [],
   "source": [
    "# Compare Performance and Memory Usage of NumPy arrays and Python lists\n",
    "# -----------------------------------------------------\n",
    "# -- Numpy => Compare Performance And Memory Use · ----\n",
    "# -----------------------------------------------------\n",
    "# -- Performance\n",
    "# -- Memory Use\n",
    "# -----------------------------------------------------"
   ]
  },
  {
   "cell_type": "code",
   "execution_count": 1,
   "metadata": {},
   "outputs": [],
   "source": [
    "import numpy as np\n",
    "import time\n",
    "import sys"
   ]
  },
  {
   "cell_type": "code",
   "execution_count": 2,
   "metadata": {},
   "outputs": [],
   "source": [
    "elements = 15_000_000\n",
    "\n",
    "my_list1 = range(elements)\n",
    "my_list2 = range(elements)\n",
    "\n",
    "my_array1 = np.arange(elements)\n",
    "my_array2 = np.arange(elements)"
   ]
  },
  {
   "cell_type": "code",
   "execution_count": 3,
   "metadata": {},
   "outputs": [
    {
     "name": "stdout",
     "output_type": "stream",
     "text": [
      "List Time: 1.4580471515655518\n"
     ]
    }
   ],
   "source": [
    "list_start = time.time()\n",
    "lsit_result = [(n1 + n2) for n1, n2 in zip(my_list1, my_list2)]\n",
    "print(f\"List Time: {time.time() - list_start}\")\n",
    "# print(lsit_result)"
   ]
  },
  {
   "cell_type": "code",
   "execution_count": 4,
   "metadata": {},
   "outputs": [
    {
     "name": "stdout",
     "output_type": "stream",
     "text": [
      "Array Time: 0.022351503372192383\n"
     ]
    }
   ],
   "source": [
    "array_start = time.time()\n",
    "array_result = my_array1 + my_array2\n",
    "print(f\"Array Time: {time.time() - array_start}\")\n",
    "# print(array_result)"
   ]
  },
  {
   "cell_type": "code",
   "execution_count": 5,
   "metadata": {},
   "outputs": [
    {
     "name": "stdout",
     "output_type": "stream",
     "text": [
      "[ 0  1  2  3  4  5  6  7  8  9 10 11 12 13 14 15 16 17 18 19 20 21 22 23\n",
      " 24 25 26 27 28 29 30 31 32 33 34 35 36 37 38 39 40 41 42 43 44 45 46 47\n",
      " 48 49 50 51 52 53 54 55 56 57 58 59 60 61 62 63 64 65 66 67 68 69 70 71\n",
      " 72 73 74 75 76 77 78 79 80 81 82 83 84 85 86 87 88 89 90 91 92 93 94 95\n",
      " 96 97 98 99]\n",
      "4\n",
      "100\n",
      "All Bytes in Array : 400\n"
     ]
    }
   ],
   "source": [
    "my_array = np.arange(100) # Create a NumPy array with values from 0 to 99\n",
    "print(my_array) # Print the array to the console\n",
    "print(my_array.itemsize) # Print the size (in bytes) of one element in the array\n",
    "print(my_array.size) # Print the total number of elements in the array\n",
    "print(f\"All Bytes in Array : {my_array.itemsize * my_array.size}\") # Calculate and print the total number of bytes consumed by the entire array\n"
   ]
  },
  {
   "cell_type": "code",
   "execution_count": 6,
   "metadata": {},
   "outputs": [
    {
     "name": "stdout",
     "output_type": "stream",
     "text": [
      "range(0, 100)\n",
      "28\n",
      "100\n",
      "All Bytes in List : 2800\n"
     ]
    }
   ],
   "source": [
    "my_list = range(100) # Create a range object containing numbers from 0 to 99\n",
    "print(my_list) # Print the range object\n",
    "print(sys.getsizeof(1)) # Print the size (in bytes) of one element in the list\n",
    "# len() returns the number of elements in the range\n",
    "print(len(my_list)) # Print the total number of elements in the list\n",
    "print(f\"All Bytes in List : {sys.getsizeof(my_list[0]) * len(my_list)}\") # Calculate and print the total number of bytes consumed by all elements in the range\n"
   ]
  },
  {
   "cell_type": "code",
   "execution_count": null,
   "metadata": {},
   "outputs": [],
   "source": []
  }
 ],
 "metadata": {
  "kernelspec": {
   "display_name": "ML",
   "language": "python",
   "name": "python3"
  },
  "language_info": {
   "codemirror_mode": {
    "name": "ipython",
    "version": 3
   },
   "file_extension": ".py",
   "mimetype": "text/x-python",
   "name": "python",
   "nbconvert_exporter": "python",
   "pygments_lexer": "ipython3",
   "version": "3.11.10"
  }
 },
 "nbformat": 4,
 "nbformat_minor": 2
}
