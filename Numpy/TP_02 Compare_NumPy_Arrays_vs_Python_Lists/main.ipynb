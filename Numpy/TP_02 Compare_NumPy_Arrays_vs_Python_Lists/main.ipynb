{
 "cells": [
  {
   "cell_type": "code",
   "execution_count": 1,
   "metadata": {},
   "outputs": [],
   "source": [
    "# Compare NumPy arrays and Python lists"
   ]
  },
  {
   "cell_type": "code",
   "execution_count": 2,
   "metadata": {},
   "outputs": [],
   "source": [
    "import numpy as np"
   ]
  },
  {
   "cell_type": "code",
   "execution_count": 3,
   "metadata": {},
   "outputs": [],
   "source": [
    "# Create a normal Python list and a NumPy array\n",
    "my_list = [1, 2, 3, 4, 5]\n",
    "my_array = np.array(my_list)"
   ]
  },
  {
   "cell_type": "code",
   "execution_count": 4,
   "metadata": {},
   "outputs": [
    {
     "name": "stdout",
     "output_type": "stream",
     "text": [
      "1\n",
      "2\n",
      "1\n",
      "2\n"
     ]
    }
   ],
   "source": [
    "# Access elements in list and array\n",
    "print(my_list[0])\n",
    "print(my_list[1])\n",
    "\n",
    "print(my_array[0])\n",
    "print(my_array[1])"
   ]
  },
  {
   "cell_type": "code",
   "execution_count": 5,
   "metadata": {},
   "outputs": [
    {
     "name": "stdout",
     "output_type": "stream",
     "text": [
      "140735807079208\n",
      "140735807079240\n",
      "1613926834192\n",
      "1613926834224\n"
     ]
    }
   ],
   "source": [
    "# Show the memory address of elements in list vs array\n",
    "print(id(my_list[0]))\n",
    "print(id(my_list[1]))\n",
    "\n",
    "print(id(my_array[0]))\n",
    "print(id(my_array[1]))"
   ]
  },
  {
   "cell_type": "code",
   "execution_count": 6,
   "metadata": {},
   "outputs": [],
   "source": [
    "# Create lists and arrays with mixed data types\n",
    "my_list_of_data = [1, 2, \"A\", \"B\", True, 15.50]\n",
    "my_array_of_data = np.array([1, 2, \"A\", \"B\", True, 15.50])\n"
   ]
  },
  {
   "cell_type": "code",
   "execution_count": 7,
   "metadata": {},
   "outputs": [
    {
     "name": "stdout",
     "output_type": "stream",
     "text": [
      "[1, 2, 'A', 'B', True, 15.5]\n",
      "['1' '2' 'A' 'B' 'True' '15.5']\n"
     ]
    }
   ],
   "source": [
    "# Print the contents of both list and array with mixed types\n",
    "print(my_list_of_data)\n",
    "print(my_array_of_data)"
   ]
  },
  {
   "cell_type": "code",
   "execution_count": 8,
   "metadata": {},
   "outputs": [
    {
     "name": "stdout",
     "output_type": "stream",
     "text": [
      "1\n",
      "1\n"
     ]
    }
   ],
   "source": [
    "# Access elements in mixed data type lists and arrays\n",
    "print(my_list_of_data[0])\n",
    "print(my_array_of_data[0])"
   ]
  },
  {
   "cell_type": "code",
   "execution_count": 9,
   "metadata": {},
   "outputs": [
    {
     "name": "stdout",
     "output_type": "stream",
     "text": [
      "<class 'int'>\n",
      "<class 'numpy.str_'>\n"
     ]
    }
   ],
   "source": [
    "# Show types of elements in list and array\n",
    "print(type(my_list_of_data[0]))\n",
    "print(type(my_array_of_data[0]))"
   ]
  },
  {
   "cell_type": "code",
   "execution_count": 10,
   "metadata": {},
   "outputs": [],
   "source": [
    "# Create another list and array with consistent data types\n",
    "my_list_of_data2 = [1, 2, \"A\", \"B\", True, 15.50]\n",
    "my_array_of_data2 = np.array([1, 2, 15.50])"
   ]
  },
  {
   "cell_type": "code",
   "execution_count": 11,
   "metadata": {},
   "outputs": [
    {
     "name": "stdout",
     "output_type": "stream",
     "text": [
      "[1, 2, 'A', 'B', True, 15.5]\n",
      "[ 1.   2.  15.5]\n"
     ]
    }
   ],
   "source": [
    "# Print the contents of both list and array with numeric and boolean types\n",
    "print(my_list_of_data2)\n",
    "print(my_array_of_data2)"
   ]
  },
  {
   "cell_type": "code",
   "execution_count": 12,
   "metadata": {},
   "outputs": [
    {
     "name": "stdout",
     "output_type": "stream",
     "text": [
      "1\n",
      "1.0\n"
     ]
    }
   ],
   "source": [
    "# Access elements in the new list and array\n",
    "print(my_list_of_data2[0])\n",
    "print(my_array_of_data2[0])"
   ]
  },
  {
   "cell_type": "code",
   "execution_count": 13,
   "metadata": {},
   "outputs": [
    {
     "name": "stdout",
     "output_type": "stream",
     "text": [
      "<class 'int'>\n",
      "<class 'numpy.float64'>\n"
     ]
    }
   ],
   "source": [
    "# Show types of elements in new list and array\n",
    "print(type(my_list_of_data2[0]))\n",
    "print(type(my_array_of_data2[0]))"
   ]
  }
 ],
 "metadata": {
  "kernelspec": {
   "display_name": "ML",
   "language": "python",
   "name": "python3"
  },
  "language_info": {
   "codemirror_mode": {
    "name": "ipython",
    "version": 3
   },
   "file_extension": ".py",
   "mimetype": "text/x-python",
   "name": "python",
   "nbconvert_exporter": "python",
   "pygments_lexer": "ipython3",
   "version": "3.11.10"
  }
 },
 "nbformat": 4,
 "nbformat_minor": 2
}
