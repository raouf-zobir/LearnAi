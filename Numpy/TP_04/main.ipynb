{
 "cells": [
  {
   "cell_type": "code",
   "execution_count": null,
   "metadata": {},
   "outputs": [],
   "source": [
    "# ------------------------------\n",
    "# -- Numpy => Array Slicing ----\n",
    "# ------------------------------\n"
   ]
  },
  {
   "cell_type": "code",
   "execution_count": 1,
   "metadata": {},
   "outputs": [],
   "source": [
    "import numpy as np"
   ]
  },
  {
   "cell_type": "code",
   "execution_count": 3,
   "metadata": {},
   "outputs": [
    {
     "name": "stdout",
     "output_type": "stream",
     "text": [
      "1\n",
      "B\n",
      "['B' 'C' 'D']\n",
      "['A' 'B' 'C' 'D']\n",
      "['C' 'D' 'E' 'F']\n"
     ]
    }
   ],
   "source": [
    "# Slicing => [Start: End: Steps] Not Including End\n",
    "\n",
    "a = np.array([\"A\", \"B\", \"C\", \"D\", \"E\", \"F\"])\n",
    "print(a.ndim)\n",
    "print(a[1])\n",
    "print(a[1:4:])\n",
    "print(a[:4:])\n",
    "print(a[2:])\n"
   ]
  },
  {
   "cell_type": "code",
   "execution_count": 4,
   "metadata": {},
   "outputs": [
    {
     "name": "stdout",
     "output_type": "stream",
     "text": [
      "2\n",
      "--------------------------------------------------\n",
      "['C' 'D' 'Y']\n",
      "--------------------------------------------------\n",
      "[['A' 'B' 'X']\n",
      " ['C' 'D' 'Y']\n",
      " ['E' 'F' 'Z']]\n",
      "--------------------------------------------------\n",
      "[['A' 'B']\n",
      " ['C' 'D']\n",
      " ['E' 'F']]\n",
      "--------------------------------------------------\n",
      "[['E' 'F']\n",
      " ['M' 'N']]\n",
      "--------------------------------------------------\n"
     ]
    }
   ],
   "source": [
    "b = np.array([[\"A\", \"B\", \"X\"], [\"C\", \"D\", \"Y\"], [\"E\", \"F\", \"Z\"], [\"M\", \"N\", \"O\"]])\n",
    "print(b.ndim)\n",
    "print(\"-\" * 50)\n",
    "print(b[1])\n",
    "print(\"-\" * 50)\n",
    "print(b[:3:])\n",
    "print(\"-\" * 50)\n",
    "print(b[:3,:2])\n",
    "print(\"-\" * 50)\n",
    "print(b[2:,:2])\n",
    "print(\"-\" * 50)"
   ]
  }
 ],
 "metadata": {
  "kernelspec": {
   "display_name": "ML",
   "language": "python",
   "name": "python3"
  },
  "language_info": {
   "codemirror_mode": {
    "name": "ipython",
    "version": 3
   },
   "file_extension": ".py",
   "mimetype": "text/x-python",
   "name": "python",
   "nbconvert_exporter": "python",
   "pygments_lexer": "ipython3",
   "version": "3.11.10"
  }
 },
 "nbformat": 4,
 "nbformat_minor": 2
}
